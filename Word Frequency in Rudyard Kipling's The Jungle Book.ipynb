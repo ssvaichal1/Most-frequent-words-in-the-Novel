{
 "cells": [
  {
   "cell_type": "code",
   "execution_count": 1,
   "metadata": {},
   "outputs": [],
   "source": [
    "import nltk\n",
    "import requests\n",
    "from bs4 import BeautifulSoup"
   ]
  },
  {
   "cell_type": "code",
   "execution_count": 14,
   "metadata": {},
   "outputs": [],
   "source": [
    "r = requests.get(\"http://www.gutenberg.org/files/236/236-h/236-h.htm\")\n",
    "r.encoding = 'utf-8'\n",
    "html = r.text"
   ]
  },
  {
   "cell_type": "code",
   "execution_count": 15,
   "metadata": {},
   "outputs": [],
   "source": [
    "#Using BeautifulSoup to extract the text of the novel from html\n",
    "soup = BeautifulSoup(html, 'html.parser')\n",
    "text = soup.get_text()"
   ]
  },
  {
   "cell_type": "code",
   "execution_count": 17,
   "metadata": {
    "collapsed": true
   },
   "outputs": [
    {
     "data": {
      "text/plain": [
       "'me not one has been trapped\\r\\n      or maimed. Now I have missed my kill. Ye know how that plot was made. Ye\\r\\n      know how ye brought me up to an untried buck to make my weakness known. It\\r\\n      was cleverly done. Your right is to kill me here on the Council Rock, now.\\r\\n      Therefore, I ask, who comes to make an end of the Lone Wolf? For it is my\\r\\n      right, by the Law of the Jungle, that ye come one by one.”\\r\\n     \\n\\r\\n      There was a long hush, for no single wolf cared to fight Akela to the\\r\\n      death. Then Shere Khan roared: “Bah! What have we to do with this\\r\\n      toothless fool? He is doomed to die! It is the man-cub who has lived too\\r\\n      long. Free People, he was my meat from the first. Give him to me. I am\\r\\n      weary of this man-wolf folly. He has troubled the jungle for ten seasons.\\r\\n      Give me the man-cub, or I will hunt here always, and not give you one\\r\\n      bone. He is a man, a man’s child, and from the marrow of my bones I hate\\r\\n      him!”\\r\\n     \\n\\r\\n      Then more than half the Pack yelled: “A man! A man! What has a man to do\\r\\n      with us? Let him go to his own place.”\\r\\n     \\n\\r\\n      “And turn all the people of the villages against us?” clamored Shere Khan.\\r\\n      “No, give him to me. He is a man, and none of us can look him between the\\r\\n      eyes.”\\r\\n     \\n\\r\\n      Akela lifted his head again and said, “He has eaten our food. He has slept\\r\\n      with us. He has driven game for us. He has broken no word of the Law of\\r\\n      the Jungle.”\\r\\n     \\n\\r\\n      “Also, I paid for him with a bull when he was accepted. The worth of a\\r\\n      bull is little, but Bagheera’s honor is something that he will perhaps\\r\\n      fight for,” said Bagheera in his gentlest voice.\\r\\n    \\n\\r\\n      “A bull paid ten years ago!” the Pack snarled. “What do we care for bones\\r\\n      ten years old?”\\r\\n     \\n\\r\\n      “Or for a pledge?” said Bagheera, his white teeth bared under his lip.\\r\\n      “Well are ye called the Free People!”\\r\\n     \\n\\r\\n      “No man’s cub can run with the people of the jungle,” howled Shere Khan.\\r\\n      “Give him to me!”\\r\\n     \\n\\r\\n      “He is our brother in all but blood,” Akela went on, “and ye would kill\\r\\n      him here! In truth, I have lived too long. Some of ye are eaters of\\r\\n      cattle, and of others I have heard that, under Shere Khan’s teaching, ye\\r\\n      go by dark night and snatch children from the villager’s doorstep.\\r\\n      Therefore I know ye to be cowards, and it is to cowards I speak. It is\\r\\n      certain that I must die, and my life is of no worth, or I would offer that\\r\\n      in the man-cub’s place. But for the sake of the Honor of the Pack,—a\\r\\n      little matter that by being without a leader ye have forgotten,—I\\r\\n      promise that if ye let the man-cub go to his own place, I will not, when\\r\\n      my time comes to die, bare one tooth against ye. I will die without\\r\\n      fighting. That will at least save the Pack three lives. More I cannot do;\\r\\n      but if ye will, I can save ye the shame that comes of killing a brother\\r\\n      against whom there is no fault—a brother spoken for and bought into\\r\\n      the Pack according to the Law of the Jungle.”\\r\\n     \\n\\r\\n      “He is a man—a man—a man!” snarled the Pack. And most of the\\r\\n      wolves began to gather round Shere Khan, whose tail was beginning to\\r\\n      switch.\\r\\n    \\n\\r\\n      “Now the business is in thy hands,” said Bagheera to Mowgli. “We can do no\\r\\n      more except fight.”\\r\\n     \\n\\r\\n      Mowgli stood upright—the fire pot in his hands. Then he stretched\\r\\n      out his arms, and yawned in the face of the Council; but he was furious\\r\\n      with rage and sorrow, for, wolflike, the wolves had never told him how\\r\\n      they hated him. “Listen you!” he cried. “There is no need for this dog’s\\r\\n      jabber. Ye have told me so often tonight that I am a man (and indeed I\\r\\n      would have been a wolf with you to my life’s end) that I feel your words\\r\\n      are true. So I do not call ye my brothers any more, but sag [dogs], as a\\r\\n      man should. What ye will do, and what ye will not do, is not yours to say.\\r\\n      That matter is with me; and that we may see the matter more plainly, I,\\r\\n      the man, have brought here a little of the Red Flower which ye, dogs,\\r\\n      fear.”\\r\\n     \\n\\r\\n      He flung the fire pot on the ground, and some of the red coals lit a tuft\\r\\n      of dried moss that flared up, as all the Council drew back in terror\\r\\n      before the leaping flames.\\r\\n    \\n\\r\\n      Mowgli thrust his dead branch into the fire till the twigs lit and\\r\\n      crackled, and whirled it above his head among the cowering wolves.\\r\\n    \\n\\r\\n      “Thou art the master,” said Bagheera in an undertone. “Save Akela from the\\r\\n      death. He was ever thy friend.”\\r\\n     \\n\\r\\n      Akela, the grim old wolf who had never asked for mercy in his life, gave\\r\\n      one piteous look at Mowgli as the boy stood all naked, his long black hair\\r\\n      tossing over his shoulders in the light of the blazing branch that made\\r\\n      the shadows jump and quiver.\\r\\n    \\n\\r\\n      “Good!” said Mowgli, staring round slowly. “I see that ye are dogs. I go\\r\\n      from you to my own people—if they be my own people. The jungle is\\r\\n      shut to me, and I must forget your talk and your companionship. But I will\\r\\n      be more merciful than ye are. Because I was all but your brother in blood,\\r\\n      I promise that when I am a man among men I will not betray ye to men as ye\\r\\n      have betrayed me.” He kicked the fire with his foot, and the sparks flew\\r\\n      up. “There shall be no war between any of us in the Pack. But here is a\\r\\n      debt to pay before I go.” He strode forward to where Shere Khan sat\\r\\n      blinking stupidly at the flames, and caught him by the tuft on his chin.\\r\\n      Bagheera followed in case of accidents. “Up, dog!” Mowgli cried. “Up, when\\r\\n      a man speaks, or I will set that coat ablaze!”\\r\\n     \\n\\r\\n      Shere Khan’s ears lay flat back on his head, and he shut his eyes, for the\\r\\n      blazing branch was very near.\\r\\n    \\n\\r\\n      “This ca'"
      ]
     },
     "execution_count": 17,
     "metadata": {},
     "output_type": "execute_result"
    }
   ],
   "source": [
    "text[37000:43000]"
   ]
  },
  {
   "cell_type": "code",
   "execution_count": 20,
   "metadata": {},
   "outputs": [
    {
     "name": "stdout",
     "output_type": "stream",
     "text": [
      "['The', 'Jungle', 'Book', 'by', 'Rudyard', 'Kipling']\n"
     ]
    }
   ],
   "source": [
    "#extracting words\n",
    "tokenizer = nltk.tokenize.RegexpTokenizer('\\w+')\n",
    "tokens = tokenizer.tokenize(text)\n",
    "print(tokens[0:6])"
   ]
  },
  {
   "cell_type": "code",
   "execution_count": 23,
   "metadata": {},
   "outputs": [
    {
     "name": "stdout",
     "output_type": "stream",
     "text": [
      "['the', 'jungle', 'book', 'by', 'rudyard', 'kipling']\n"
     ]
    }
   ],
   "source": [
    "words = []\n",
    "for word in tokens:\n",
    "    words.append(word.lower())\n",
    "print(words[:6])"
   ]
  },
  {
   "cell_type": "code",
   "execution_count": 27,
   "metadata": {},
   "outputs": [
    {
     "data": {
      "text/plain": [
       "['jungle', 'book', 'rudyard', 'kipling']"
      ]
     },
     "execution_count": 27,
     "metadata": {},
     "output_type": "execute_result"
    }
   ],
   "source": [
    "from nltk.corpus import stopwords\n",
    "sw = stopwords.words('english')\n",
    "words_ns = []\n",
    "for word in words:\n",
    "    if word not in sw:\n",
    "        words_ns.append(word)\n",
    "words_ns[:4]"
   ]
  },
  {
   "cell_type": "code",
   "execution_count": null,
   "metadata": {},
   "outputs": [],
   "source": [
    "#Using nltk FreqDist to display the frequency distribution of words in the Jungle Book"
   ]
  },
  {
   "cell_type": "code",
   "execution_count": 28,
   "metadata": {},
   "outputs": [
    {
     "data": {
      "image/png": "[encoded data removed]",
      "text/plain": [
       "<Figure size 432x288 with 1 Axes>"
      ]
     },
     "metadata": {
      "needs_background": "light"
     },
     "output_type": "display_data"
    },
    {
     "data": {
      "text/plain": [
       "<matplotlib.axes._subplots.AxesSubplot at 0x22cffdd39b0>"
      ]
     },
     "execution_count": 28,
     "metadata": {},
     "output_type": "execute_result"
    }
   ],
   "source": [
    "%matplotlib inline\n",
    "freqdist = nltk.FreqDist(words_ns)\n",
    "freqdist.plot(25)"
   ]
  },
  {
   "cell_type": "markdown",
   "metadata": {},
   "source": [
    "### Since this is a book with many conversations, we have \"said\" as the most frequent word, followed by \"little\" and \"mowgli\""
   ]
  },
  {
   "cell_type": "code",
   "execution_count": null,
   "metadata": {},
   "outputs": [],
   "source": []
  },
  {
   "cell_type": "code",
   "execution_count": null,
   "metadata": {},
   "outputs": [],
   "source": []
  }
 ],
 "metadata": {
  "kernelspec": {
   "display_name": "Python 3",
   "language": "python",
   "name": "python3"
  },
  "language_info": {
   "codemirror_mode": {
    "name": "ipython",
    "version": 3
   },
   "file_extension": ".py",
   "mimetype": "text/x-python",
   "name": "python",
   "nbconvert_exporter": "python",
   "pygments_lexer": "ipython3",
   "version": "3.7.3"
  }
 },
 "nbformat": 4,
 "nbformat_minor": 2
}
